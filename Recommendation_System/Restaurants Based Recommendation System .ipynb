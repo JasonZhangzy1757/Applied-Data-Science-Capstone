{
 "cells": [
  {
   "cell_type": "markdown",
   "metadata": {},
   "source": [
    "# Collabrative Filtering Recommendation System\n",
    "\n",
    "Resteraunt Based Recommendation System, in this project , we want to find the similar resteraunts based on what resteranuts shows on the website."
   ]
  },
  {
   "cell_type": "code",
   "execution_count": 1,
   "metadata": {},
   "outputs": [],
   "source": [
    "import pandas as pd\n",
    "import numpy as np\n",
    "from sklearn.feature_extraction.text import CountVectorizer\n",
    "from sklearn.metrics.pairwise import cosine_similarity"
   ]
  },
  {
   "cell_type": "code",
   "execution_count": 8,
   "metadata": {},
   "outputs": [
    {
     "data": {
      "text/plain": [
       "(3779, 422)"
      ]
     },
     "execution_count": 8,
     "metadata": {},
     "output_type": "execute_result"
    }
   ],
   "source": [
    "data_org = pd.read_csv('vegas_cuisine.csv')\n",
    "data_org.shape"
   ]
  },
  {
   "cell_type": "markdown",
   "metadata": {},
   "source": [
    "Columns based on key features ranked by our Classification results, based on Decision Tree and lightbgm, Xgboost. "
   ]
  },
  {
   "cell_type": "code",
   "execution_count": 9,
   "metadata": {},
   "outputs": [],
   "source": [
    "important_cols = ['org_index','name','postal_code','latitude','longitude','stars','review_count','asian','european','namerica','samerica','other', 'BusinessParking_street', 'BusinessParking_validated','BusinessParking_valet','class', 'Arts & Entertainment','Asian Fusion','Bakeries', 'Barbeque', 'Bars','Beer', 'Breakfast & Brunch','Buffets','Cafes','Casinos','Caterers', 'Cocktail Bars', 'Coffee & Tea','Desserts']"
   ]
  },
  {
   "cell_type": "code",
   "execution_count": 10,
   "metadata": {},
   "outputs": [],
   "source": [
    "data = data_org[important_cols]\n",
    "data = data.fillna(data.mean())"
   ]
  },
  {
   "cell_type": "code",
   "execution_count": 42,
   "metadata": {},
   "outputs": [],
   "source": [
    "def get_title_from_index(data,index):\n",
    "    name = data[data.index == index][\"name\"].values\n",
    "#     if type(name) == list:\n",
    "#         name = name[0]\n",
    "    return name\n",
    "\n",
    "def get_index_from_title(data, name):\n",
    "    idx = data[data.name == name].index\n",
    "    if len(idx) > 0:\n",
    "        idx = idx[0]\n",
    "    return idx"
   ]
  },
  {
   "cell_type": "code",
   "execution_count": 51,
   "metadata": {},
   "outputs": [
    {
     "data": {
      "text/plain": [
       "array(['Subway'], dtype=object)"
      ]
     },
     "execution_count": 51,
     "metadata": {},
     "output_type": "execute_result"
    }
   ],
   "source": [
    "id = get_title_from_index(data,0)\n",
    "id"
   ]
  },
  {
   "cell_type": "markdown",
   "metadata": {},
   "source": [
    "### We find 5 most similar resterannts  based on what categories and other informations they showed on the website."
   ]
  },
  {
   "cell_type": "code",
   "execution_count": 75,
   "metadata": {},
   "outputs": [],
   "source": [
    "#Get a list of similar restaurants (given a target restaurant) in descending order of similarity score\n",
    "#1 only look at restaurants of the same category\n",
    "cuisine_list = ['asian','namerica','samerica','european']\n",
    "\n",
    "def top_similar_res(data):\n",
    "    #Get user's input - a name of a restaurant. Here we assume that the restaurant has a Yelp profile and is in our dataset\n",
    "    title = str(input('Enter a name of a restaurant: ')) \n",
    "    \n",
    "    #Get the cuisine of the restaurant\n",
    "    cuisine = str(input('Please specify the cuisine type (choose among these following options: asian, namerica, samerica or european): '))\n",
    "    \n",
    "    #Print confirmation\n",
    "    print('The selected restaurant and cuisine type are: '+ title +', '+cuisine)\n",
    "    \n",
    "    #Get index of a restaurant from its name \n",
    "    res_index = int(get_index_from_title(data,title))\n",
    "    \n",
    "    #only compare the restaurants with others of the same cuisine\n",
    "    datause = data[data[cuisine] ==True]\n",
    "    \n",
    "    for i in cuisine_list:\n",
    "        if i != cuisine:\n",
    "            datause = datause[datause[i] == False]\n",
    "    datause.reset_index(inplace = True) \n",
    "            \n",
    "    print('There are ' + str(datause.shape[0]) + ' restaurants of the same cuisine')\n",
    "    res_index = int(get_index_from_title(data,title))\n",
    "        \n",
    "    #Select features and compute cosine sim matrix\n",
    "    features = datause.columns.tolist()\n",
    "    features.remove('name')\n",
    "    features.remove('org_index')\n",
    "    \n",
    "    dfuse = np.matrix(datause[features])\n",
    "    cosine_sim = cosine_similarity(dfuse)\n",
    "    similar_res =  list(enumerate(cosine_sim[res_index]))\n",
    "    sorted_similar_res = sorted(similar_res,key=lambda x:x[1],reverse=True)\n",
    "\n",
    "    # Print\n",
    "    print(' ')\n",
    "    print('List of top 10 competitors: ')\n",
    "    i=0\n",
    "    for element in sorted_similar_res:\n",
    "        title_sim = get_title_from_index(datause, element[0])\n",
    "        stars = datause['stars'][element[0]]\n",
    "        review = datause['review_count'][element[0]]\n",
    "        \n",
    "        if title_sim != title:\n",
    "            print(title_sim, stars, review)\n",
    "        i=i+1\n",
    "        if i>10:\n",
    "            break"
   ]
  },
  {
   "cell_type": "code",
   "execution_count": 76,
   "metadata": {
    "scrolled": true
   },
   "outputs": [
    {
     "name": "stdout",
     "output_type": "stream",
     "text": [
      "Enter a name of a restaurant: Subway\n",
      "Please specify the cuisine type (choose among these following options: asian, namerica, samerica or european): namerica\n",
      "The selected restaurant and cuisine type are: Subway, namerica\n",
      "There are 1775 restaurants of the same cuisine\n",
      " \n",
      "List of top 10 competitors: \n",
      "['Popeyes Louisiana Kitchen'] 1.5 16\n",
      "['Pizza Hut'] 2.5 19\n",
      "['Metro Pizza'] 2.5 21\n",
      "[\"Domino's Pizza\"] 2.5 27\n",
      "['Fatburger'] 2.5 22\n",
      "['KFC'] 2.0 21\n",
      "[\"Charlie's Market Buffet\"] 2.5 15\n",
      "['Taste My Love'] 4.5 11\n",
      "['Ace Of Steaks'] 4.5 35\n",
      "['Jack in the Box'] 3.0 33\n"
     ]
    }
   ],
   "source": [
    "top_similar_res(data)"
   ]
  },
  {
   "cell_type": "markdown",
   "metadata": {},
   "source": [
    "We can notice that when you search for a resteranuts, it will give you the resteranuts almost in the same category."
   ]
  },
  {
   "cell_type": "code",
   "execution_count": null,
   "metadata": {},
   "outputs": [],
   "source": []
  }
 ],
 "metadata": {
  "kernelspec": {
   "display_name": "Python 2",
   "language": "python",
   "name": "python2"
  },
  "language_info": {
   "codemirror_mode": {
    "name": "ipython",
    "version": 2
   },
   "file_extension": ".py",
   "mimetype": "text/x-python",
   "name": "python",
   "nbconvert_exporter": "python",
   "pygments_lexer": "ipython2",
   "version": "2.7.16"
  }
 },
 "nbformat": 4,
 "nbformat_minor": 2
}
